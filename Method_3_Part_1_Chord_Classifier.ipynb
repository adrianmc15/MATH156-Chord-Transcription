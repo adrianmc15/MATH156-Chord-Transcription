{
 "cells": [
  {
   "cell_type": "markdown",
   "metadata": {},
   "source": [
    "## Method 3: Chord Classifier\n",
    "This notebook contains the code for the Chord Classifier part of the combined method"
   ]
  },
  {
   "cell_type": "code",
   "execution_count": 2,
   "metadata": {},
   "outputs": [],
   "source": [
    "import os\n",
    "import pandas as pd\n",
    "import numpy as np\n",
    "from matplotlib import pyplot as plt\n",
    "from scipy.io.wavfile import read as read_wav\n",
    "from scipy import fft,signal\n",
    "from sklearn.preprocessing import minmax_scale\n",
    "import warnings\n",
    "from tqdm import tqdm\n"
   ]
  },
  {
   "cell_type": "code",
   "execution_count": 3,
   "metadata": {},
   "outputs": [],
   "source": [
    "A_FREQ = 440 \n",
    "NOTES = ['A','A#','B','C','C#','D','D#','E','F','F#','G','G#'] "
   ]
  },
  {
   "cell_type": "code",
   "execution_count": 4,
   "metadata": {},
   "outputs": [],
   "source": [
    "def note_from_freq(freq):\n",
    "    r = 12.0*np.log2(freq/A_FREQ)\n",
    "    return r\n",
    "\n",
    "def freq_from_note(r):\n",
    "    f = A_FREQ*2**(r/12)\n",
    "    return f\n",
    "\n",
    "# gets the maximum volume of the note in the fft image for a given note within a window of frequency\n",
    "def get_note_volume(note,fft_image,fft_freq,note_window=0.2):\n",
    "    if isinstance(note,str):\n",
    "        note = NOTES.index(note)\n",
    "    try:\n",
    "        f0 = freq_from_note(note-note_window)\n",
    "        f1 = freq_from_note(note+note_window)\n",
    "        f_idx = np.where((fft_freq>=f0)&(fft_freq<=f1)) \n",
    "        maxVol = np.max((fft_image[f_idx]))\n",
    "    except:\n",
    "        return 0\n",
    "    \n",
    "    return maxVol\n",
    "\n",
    "# gets the maximum volume of the note in the fft image for a given note over all octaves\n",
    "def get_notes_volume(notes,fft_image,fft_freq,oct_from=-4.,oct_to=8.):\n",
    "    # if note is a string, convert to index\n",
    "    if isinstance(notes,str):\n",
    "        notes = NOTES.index(notes)\n",
    "    \n",
    "    # get the notes in the range of octaves\n",
    "    notes = np.arange(notes+12.*oct_from,notes+12.*oct_to,12.0)\n",
    "    vol = []\n",
    "\n",
    "    # get the volume of each note\n",
    "    for rn in notes:\n",
    "        vol.append(get_note_volume(rn,fft_image,fft_freq))\n",
    "        \n",
    "    # return the maximum volume of that note\n",
    "    return np.max(vol)\n"
   ]
  },
  {
   "cell_type": "code",
   "execution_count": 5,
   "metadata": {},
   "outputs": [],
   "source": [
    "def preprocess(fileName):\n",
    "    rate, data_raw = read_wav(fileName)\n",
    "    data = (data_raw[:,0]+data_raw[:,1]).astype(np.float32) # stereo of any type -> mono of float32\n",
    "    data = minmax_scale(data,(-1.,1.))\n",
    "    fft_image = np.abs(fft.rfft(data,norm='forward'))\n",
    "    fft_freq = fft.rfftfreq(len(data),1./rate)\n",
    "\n",
    "    note_vols = np.zeros(12)\n",
    "\n",
    "    for rnote in range(12):\n",
    "        note_vols[rnote] = get_notes_volume(rnote,fft_image,fft_freq)\n",
    "    \n",
    "    # get the indexes of the top 3 notes\n",
    "    top_notes = note_vols.argsort()[-3:][::-1]\n",
    "    \n",
    "    # get the differences between the top 3 notes\n",
    "    diffs = []\n",
    "    for i in range(len(top_notes)-1):\n",
    "        diffs.append(top_notes[i] - top_notes[i+1])\n",
    "    \n",
    "    diffs.append(top_notes[0] - top_notes[-1])\n",
    "\n",
    "    return diffs, note_vols\n",
    " "
   ]
  },
  {
   "cell_type": "code",
   "execution_count": 6,
   "metadata": {},
   "outputs": [
    {
     "name": "stdout",
     "output_type": "stream",
     "text": [
      "                                    File Path Root Note  Octave Quality  \\\n",
      "0        data/chords/dim/Eb-7-dim-chord-1.wav        Eb       7     dim   \n",
      "1   data/chords/min7b5/C-3-min7b5-chord-1.wav         C       3  min7b5   \n",
      "2       data/chords/dim7/E-6-dim7-chord-0.wav         E       6    dim7   \n",
      "3        data/chords/min/Bb-5-min-chord-0.wav        Bb       5     min   \n",
      "4  data/chords/maj7_2/Ab-5-maj7_2-chord-0.wav        Ab       5  maj7_2   \n",
      "\n",
      "   Inversion  \n",
      "0          1  \n",
      "1          1  \n",
      "2          0  \n",
      "3          0  \n",
      "4          0  \n"
     ]
    }
   ],
   "source": [
    "# try it out on a few of the files in /data/train_set.csv:\n",
    "train_set = pd.read_csv('data/train_set.csv')\n",
    "test_set = pd.read_csv('data/test_set.csv')\n",
    "print(train_set.head())\n",
    "\n",
    "# remove the chords that are not maj or min in the Quality column\n",
    "train_set = train_set[train_set['Quality'].isin(['maj', 'min', 'dim', 'aug'])]\n",
    "test_set = test_set[test_set['Quality'].isin(['maj', 'min', 'dim', 'aug'])]"
   ]
  },
  {
   "cell_type": "code",
   "execution_count": 7,
   "metadata": {},
   "outputs": [
    {
     "name": "stdout",
     "output_type": "stream",
     "text": [
      "([9, -1, 8], array([5.14683663e-04, 4.98163980e-04, 8.30797944e-05, 1.02320169e-04,\n",
      "       1.23592006e-04, 1.07863976e-04, 3.86379659e-04, 1.89827930e-04,\n",
      "       1.05026404e-04, 6.59153040e-04, 3.10034287e-04, 1.09101835e-04]))\n"
     ]
    }
   ],
   "source": [
    "print(preprocess(train_set['File Path'].iloc[0]))\n",
    "# replace all paths in train_set and test_set that have a # in it to replace the # with s\n",
    "train_set['File Path'] = train_set['File Path'].str.replace('#', 's')\n",
    "test_set['File Path'] = test_set['File Path'].str.replace('#', 's')"
   ]
  },
  {
   "cell_type": "code",
   "execution_count": 8,
   "metadata": {},
   "outputs": [
    {
     "name": "stderr",
     "output_type": "stream",
     "text": [
      "  0%|          | 0/713 [00:00<?, ?it/s]"
     ]
    },
    {
     "name": "stderr",
     "output_type": "stream",
     "text": [
      "100%|██████████| 713/713 [00:04<00:00, 169.33it/s]\n"
     ]
    }
   ],
   "source": [
    "# disable warnings\n",
    "warnings.filterwarnings(\"ignore\")\n",
    "\n",
    "# add the diffs and note_vols columns to the train set, where each diff note_vol is a different column\n",
    "for j in range(3):\n",
    "    train_set['diff' + str(j)] = None\n",
    "\n",
    "for k in range(12):\n",
    "    train_set['note_vol' + str(k)] = None\n",
    "\n",
    "diffs = []\n",
    "note_vols = []\n",
    "for i in tqdm(range(len(train_set))):\n",
    "    diff, note_vol = preprocess(train_set['File Path'].iloc[i])\n",
    "    diffs.append(diff)\n",
    "    note_vols.append(note_vol)\n",
    "\n",
    "    try:\n",
    "        # set the columns diff_0 to diff_2 and note_0 to note_11 at train_set index i to the values in diff and note_vol\n",
    "        for j in range(3):\n",
    "            train_set['diff' + str(j)].iloc[i] = diff[j]\n",
    "        \n",
    "        for k in range(12):\n",
    "            train_set['note_vol' + str(k)].iloc[i] = note_vol[k]\n",
    "    except:\n",
    "        print(diff, note_vol)\n"
   ]
  },
  {
   "cell_type": "code",
   "execution_count": 9,
   "metadata": {},
   "outputs": [
    {
     "name": "stdout",
     "output_type": "stream",
     "text": [
      "                               File Path Root Note  Octave Quality  Inversion  \\\n",
      "0   data/chords/dim/Eb-7-dim-chord-1.wav        Eb       7     dim          1   \n",
      "3   data/chords/min/Bb-5-min-chord-0.wav        Bb       5     min          0   \n",
      "20  data/chords/maj/Ab-3-maj-chord-1.wav        Ab       3     maj          1   \n",
      "28  data/chords/aug/Ab-2-aug-chord-0.wav        Ab       2     aug          0   \n",
      "32   data/chords/aug/G-4-aug-chord-1.wav         G       4     aug          1   \n",
      "\n",
      "   diff0 diff1 diff2 note_vol0 note_vol1 note_vol2 note_vol3 note_vol4  \\\n",
      "0      9    -1     8  0.000515  0.000498  0.000083  0.000102  0.000124   \n",
      "3     -4     7     3  0.000197  0.004805  0.000518  0.000394  0.007915   \n",
      "20     8    -3     5  0.000794  0.002993  0.000608  0.028265  0.000975   \n",
      "28     4     4     8  0.000913  0.001247  0.002298  0.020926  0.001299   \n",
      "32    -8     4    -4  0.000572  0.001208  0.008392  0.000506  0.000611   \n",
      "\n",
      "   note_vol5 note_vol6 note_vol7 note_vol8 note_vol9 note_vol10 note_vol11  \n",
      "0   0.000108  0.000386   0.00019  0.000105  0.000659    0.00031   0.000109  \n",
      "3   0.000619  0.000216  0.000201  0.006676  0.000336   0.000485   0.000369  \n",
      "20  0.001021   0.00862  0.002033  0.000725  0.002793   0.003984   0.031713  \n",
      "28  0.001568  0.009765  0.022987  0.001126  0.001723   0.005113   0.026421  \n",
      "32  0.000861    0.0052   0.00062  0.000537  0.003425   0.005519   0.000746  \n"
     ]
    }
   ],
   "source": [
    "# print the head of the train_set to make sure the columns were added correctly\n",
    "print(train_set.head())"
   ]
  },
  {
   "cell_type": "code",
   "execution_count": 10,
   "metadata": {},
   "outputs": [
    {
     "name": "stderr",
     "output_type": "stream",
     "text": [
      "100%|██████████| 307/307 [00:01<00:00, 164.93it/s]\n"
     ]
    }
   ],
   "source": [
    "for j in range(3):\n",
    "    test_set['diff' + str(j)] = None\n",
    "\n",
    "for k in range(12):\n",
    "    test_set['note_vol' + str(k)] = None\n",
    "\n",
    "\n",
    "for i in tqdm(range(len(test_set))):\n",
    "    diff, note_vol = preprocess(test_set['File Path'].iloc[i])\n",
    "    diffs.append(diff)\n",
    "    note_vols.append(note_vol)\n",
    "\n",
    "    try:\n",
    "        # set the columns diff_0 to diff_2 and note_0 to note_11 at train_set index i to the values in diff and note_vol\n",
    "        for j in range(3):\n",
    "            test_set['diff' + str(j)].iloc[i] = diff[j]\n",
    "        \n",
    "        for k in range(12):\n",
    "            test_set['note_vol' + str(k)].iloc[i] = note_vol[k]\n",
    "    except:\n",
    "        print(diff, note_vol)"
   ]
  },
  {
   "cell_type": "code",
   "execution_count": 11,
   "metadata": {},
   "outputs": [
    {
     "name": "stdout",
     "output_type": "stream",
     "text": [
      "                               File Path Root Note  Octave Quality  Inversion  \\\n",
      "10  data/chords/aug/Cs-4-aug-chord-1.wav        C#       4     aug          1   \n",
      "12   data/chords/aug/A-5-aug-chord-1.wav         A       5     aug          1   \n",
      "15   data/chords/min/F-4-min-chord-2.wav         F       4     min          2   \n",
      "16  data/chords/aug/Ab-7-aug-chord-0.wav        Ab       7     aug          0   \n",
      "18   data/chords/dim/F-7-dim-chord-0.wav         F       7     dim          0   \n",
      "\n",
      "   diff0 diff1 diff2 note_vol0 note_vol1 note_vol2 note_vol3 note_vol4  \\\n",
      "10    -8     4    -4  0.021142   0.00095  0.000786  0.001522  0.007849   \n",
      "12    -4     8     4   0.00494  0.000153  0.000228  0.000305  0.006822   \n",
      "15    -8     3    -5   0.00202  0.000759  0.000409  0.006797  0.000349   \n",
      "16     4     4     8  0.000152  0.000205  0.000121  0.000386  0.000211   \n",
      "18    -3     9     6  0.000223  0.000229   0.00034  0.000218  0.000075   \n",
      "\n",
      "   note_vol5 note_vol6 note_vol7 note_vol8 note_vol9 note_vol10 note_vol11  \n",
      "10  0.001089  0.000891  0.003897  0.009987  0.000499   0.001097    0.00317  \n",
      "12  0.000284   0.00015  0.000173  0.005796  0.000174   0.000261   0.000262  \n",
      "15  0.000611  0.000957  0.001915  0.005239  0.000369   0.003999   0.006292  \n",
      "16  0.000092  0.000082  0.000419  0.000141  0.000108   0.000065   0.000573  \n",
      "18  0.000075   0.00008  0.000143  0.000614  0.000279   0.000092   0.000543  \n"
     ]
    }
   ],
   "source": [
    "print(test_set.head())"
   ]
  },
  {
   "cell_type": "code",
   "execution_count": 12,
   "metadata": {},
   "outputs": [
    {
     "name": "stdout",
     "output_type": "stream",
     "text": [
      "0.9185667752442996\n"
     ]
    }
   ],
   "source": [
    "# train a KNN to predict the quality based on the diff and note_vol columns\n",
    "from sklearn.neighbors import KNeighborsClassifier\n",
    "\n",
    "# create the KNN model\n",
    "knn = KNeighborsClassifier(n_neighbors=1)\n",
    "\n",
    "# create the X and y arrays\n",
    "X = train_set.drop(columns=['Quality', 'Root Note', 'File Path', 'Inversion'])\n",
    "y = train_set['Quality']\n",
    "\n",
    "# fit the model\n",
    "knn.fit(X, y)\n",
    "\n",
    "# predict the quality of the test_set\n",
    "predictions = knn.predict(test_set.drop(columns=['Quality', 'Root Note', 'File Path', 'Inversion']))\n",
    "\n",
    "# print the accuracy of the model\n",
    "print(knn.score(test_set.drop(columns=['Quality', 'Root Note', 'File Path', 'Inversion']), test_set['Quality']))\n"
   ]
  },
  {
   "cell_type": "code",
   "execution_count": 13,
   "metadata": {},
   "outputs": [
    {
     "data": {
      "image/png": "[encoded data removed]",
      "text/plain": [
       "<Figure size 640x480 with 2 Axes>"
      ]
     },
     "metadata": {},
     "output_type": "display_data"
    }
   ],
   "source": [
    "# plot a confusion matrix of the results\n",
    "from sklearn.metrics import confusion_matrix\n",
    "import seaborn as sns\n",
    "\n",
    "cm = confusion_matrix(test_set['Quality'], predictions)\n",
    "sns.heatmap(cm, annot=True, fmt='g')\n",
    "plt.xlabel('Predicted')\n",
    "plt.ylabel('Truth')\n",
    "plt.title('Confusion Matrix of Chord Quality Classification')\n",
    "plt.show()"
   ]
  },
  {
   "cell_type": "markdown",
   "metadata": {},
   "source": [
    "we have every note and the amount of that note\n",
    "to get it manually we took every chord and found how much of each chord is in that note\n",
    "\n",
    "what would be useful would be to use something like the intervals as a feature\n",
    "\n",
    "i would imagine using the amount of each note would be useful but this has not worked in the past\n",
    "\n",
    "what if we started with something that we know would work and then worked backwards from there"
   ]
  },
  {
   "cell_type": "code",
   "execution_count": 14,
   "metadata": {},
   "outputs": [
    {
     "name": "stdout",
     "output_type": "stream",
     "text": [
      "0.23778501628664495\n"
     ]
    }
   ],
   "source": [
    "# try multi class logistic regression\n",
    "from sklearn.linear_model import LogisticRegression\n",
    "\n",
    "# create the logistic regression model\n",
    "logreg = LogisticRegression(multi_class='multinomial', solver='lbfgs')\n",
    "\n",
    "# fit the model\n",
    "logreg.fit(X, y)\n",
    "\n",
    "# predict the quality of the test_set\n",
    "predictions = logreg.predict(test_set.drop(columns=['Quality', 'Root Note', 'File Path', 'Inversion']))\n",
    "\n",
    "# print the accuracy of the model\n",
    "print(logreg.score(test_set.drop(columns=['Quality', 'Root Note', 'File Path', 'Inversion']), test_set['Quality']))\n"
   ]
  },
  {
   "cell_type": "code",
   "execution_count": 15,
   "metadata": {},
   "outputs": [
    {
     "name": "stdout",
     "output_type": "stream",
     "text": [
      "0.8013029315960912\n"
     ]
    }
   ],
   "source": [
    "# try a random forest\n",
    "from sklearn.ensemble import RandomForestClassifier\n",
    "\n",
    "# create the random forest model\n",
    "rf = RandomForestClassifier(n_estimators=100)\n",
    "\n",
    "# fit the model\n",
    "rf.fit(X, y)\n",
    "\n",
    "# predict the quality of the test_set\n",
    "predictions = rf.predict(test_set.drop(columns=['Quality', 'Root Note', 'File Path', 'Inversion']))\n",
    "\n",
    "# print the accuracy of the model\n",
    "print(rf.score(test_set.drop(columns=['Quality', 'Root Note', 'File Path', 'Inversion']), test_set['Quality']))\n"
   ]
  }
 ],
 "metadata": {
  "kernelspec": {
   "display_name": "Python 3",
   "language": "python",
   "name": "python3"
  },
  "language_info": {
   "codemirror_mode": {
    "name": "ipython",
    "version": 3
   },
   "file_extension": ".py",
   "mimetype": "text/x-python",
   "name": "python",
   "nbconvert_exporter": "python",
   "pygments_lexer": "ipython3",
   "version": "3.9.6"
  }
 },
 "nbformat": 4,
 "nbformat_minor": 2
}
