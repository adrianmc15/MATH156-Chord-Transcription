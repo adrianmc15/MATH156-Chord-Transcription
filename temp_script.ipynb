{
 "cells": [
  {
   "cell_type": "code",
   "execution_count": 3,
   "metadata": {},
   "outputs": [
    {
     "name": "stdout",
     "output_type": "stream",
     "text": [
      "['perf4', 'perf5', 'min6', 'dim', 'min7', 'maj7_2', 'aug', 'sixth', 'maj3', 'min7b5', 'maj2', 'aug6', 'maj', 'dim7', 'octave', 'min2', 'min3', 'maj7', 'maj6', 'min', 'sus2', 'seventh']\n"
     ]
    }
   ],
   "source": [
    "# rename all files in data/chords folder such that ever # is replaced with s\n",
    "\n",
    "import os\n",
    "import shutil\n",
    "\n",
    "# get all files in all subfolders in data/chords folder\n",
    "\n",
    "\n",
    "\n",
    "\n",
    "# get all files in data/chords folder\n",
    "files = os.listdir('data/chords')\n",
    "# print(files)\n",
    "\n",
    "# rename all files in data/chords folder such that ever # is replaced with s\n",
    "for file in files:\n",
    "    wavs = os.listdir('data/chords/' + file)\n",
    "    for wav in wavs:\n",
    "        # print(wav)\n",
    "        # print(wav.replace('#', 's'))\n",
    "        shutil.move('data/chords/' + file + '/' + wav, 'data/chords/' + file + '/' + wav.replace('#', 's'))\n",
    "\n",
    "# get all files in data/chords folder\n",
    "files = os.listdir('data/chords')\n",
    "print(files)"
   ]
  }
 ],
 "metadata": {
  "kernelspec": {
   "display_name": "Python 3",
   "language": "python",
   "name": "python3"
  },
  "language_info": {
   "codemirror_mode": {
    "name": "ipython",
    "version": 3
   },
   "file_extension": ".py",
   "mimetype": "text/x-python",
   "name": "python",
   "nbconvert_exporter": "python",
   "pygments_lexer": "ipython3",
   "version": "3.9.6"
  }
 },
 "nbformat": 4,
 "nbformat_minor": 2
}
